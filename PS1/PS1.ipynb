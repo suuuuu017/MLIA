{
 "cells": [
  {
   "cell_type": "markdown",
   "metadata": {},
   "source": [
    "### Import Libraries"
   ]
  },
  {
   "cell_type": "code",
   "execution_count": null,
   "metadata": {},
   "outputs": [],
   "source": [
    "import numpy as np\n",
    "import cv2\n",
    "import matplotlib.pyplot as plt\n",
    "from skimage.color import rgb2hsv, rgb2gray, rgb2yuv"
   ]
  },
  {
   "cell_type": "markdown",
   "metadata": {},
   "source": [
    "### Read Image and Add Noise"
   ]
  },
  {
   "cell_type": "code",
   "execution_count": null,
   "metadata": {},
   "outputs": [],
   "source": [
    "def gaussian_noise(img_gray):\n",
    "    \n",
    "    row,col= img_gray.shape\n",
    "    mean = 0\n",
    "    var = 0.1\n",
    "    sigma = var ** 0.5\n",
    "    gaussian = np.random.normal(mean, sigma, (row, col)) \n",
    "    noisy_img = img_gray + gaussian\n",
    "    plt.figure()\n",
    "    plt.title('Noisy Image')\n",
    "    plt.imshow(noisy_img, cmap='gray')\n",
    "\n",
    "img = cv2.imread('cameraman.png')\n",
    "img_gray = rgb2gray(img)\n",
    "plt.title('Input Image')\n",
    "plt.imshow(img, cmap='gray')\n",
    "\n",
    "gaussian_noise(img_gray)"
   ]
  },
  {
   "cell_type": "markdown",
   "metadata": {},
   "source": [
    "### Forward and Backward Difference"
   ]
  },
  {
   "cell_type": "code",
   "execution_count": null,
   "metadata": {},
   "outputs": [],
   "source": [
    "def forward_difference(image):\n",
    "    rows, cols = image.shape\n",
    "    d = np.zeros((rows,cols))\n",
    "    d[:,1:cols-1] = image[:,1:cols-1] - image[:,0:cols-2];\n",
    "    d[:,0] = image[:,0] - image[:,cols-1];\n",
    "    return d\n",
    "\n",
    "\n",
    "def backward_difference(image):\n",
    "    rows, cols = image.shape\n",
    "    d = np.zeros((rows,cols))\n",
    "    d[1:rows-1, :] = image[1:rows-1, :] - image[0:rows-2, :];\n",
    "    d[0,:] = image[0,:] - image[rows-1,:];\n",
    "    return d\n",
    "\n",
    "\n",
    "## read image\n",
    "img = cv2.imread('cameraman.png')\n",
    "img_gray = rgb2gray(img)\n",
    "\n",
    "\n",
    "## plot the image\n",
    "plt.figure()\n",
    "plt.title('Input Image')\n",
    "plt.imshow(img_gray, cmap='gray')\n",
    "\n",
    "\n",
    "## calculate forward difference and plot\n",
    "forward_diff_img = forward_difference(img_gray)\n",
    "plt.figure()\n",
    "plt.title('Forward Difference')\n",
    "plt.imshow(forward_diff_img, cmap='gray')\n",
    "\n",
    "\n",
    "## calculate backward difference and plot\n",
    "backward_diff_img = backward_difference(img_gray)\n",
    "plt.figure()\n",
    "plt.title('Backward Difference')\n",
    "plt.imshow(backward_diff_img, cmap='gray')"
   ]
  }
 ],
 "metadata": {
  "kernelspec": {
   "display_name": "Python 3.9.12 ('base')",
   "language": "python",
   "name": "python3"
  },
  "language_info": {
   "codemirror_mode": {
    "name": "ipython",
    "version": 3
   },
   "file_extension": ".py",
   "mimetype": "text/x-python",
   "name": "python",
   "nbconvert_exporter": "python",
   "pygments_lexer": "ipython3",
   "version": "3.9.12"
  },
  "orig_nbformat": 4,
  "vscode": {
   "interpreter": {
    "hash": "be34f5713e2c3e8bbe5459cb525c363d5d0e9d2516a1d564e6eb718dc5040654"
   }
  }
 },
 "nbformat": 4,
 "nbformat_minor": 2
}
